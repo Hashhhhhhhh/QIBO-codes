{
  "nbformat": 4,
  "nbformat_minor": 0,
  "metadata": {
    "colab": {
      "provenance": []
    },
    "kernelspec": {
      "name": "python3",
      "display_name": "Python 3"
    },
    "language_info": {
      "name": "python"
    }
  },
  "cells": [
    {
      "cell_type": "code",
      "execution_count": 1,
      "metadata": {
        "colab": {
          "base_uri": "https://localhost:8080/"
        },
        "id": "BKNW2NYD_Q7t",
        "outputId": "8f4a2fff-1aab-4c48-c9f5-76e0de50efc1"
      },
      "outputs": [
        {
          "output_type": "stream",
          "name": "stdout",
          "text": [
            "Requirement already satisfied: qibo in /usr/local/lib/python3.10/dist-packages (0.2.9)\n",
            "Requirement already satisfied: cma<4.0.0,>=3.3.0 in /usr/local/lib/python3.10/dist-packages (from qibo) (3.4.0)\n",
            "Requirement already satisfied: hyperopt<0.3.0,>=0.2.7 in /usr/local/lib/python3.10/dist-packages (from qibo) (0.2.7)\n",
            "Requirement already satisfied: joblib<2.0.0,>=1.2.0 in /usr/local/lib/python3.10/dist-packages (from qibo) (1.4.2)\n",
            "Requirement already satisfied: networkx<4.0.0,>=3.2.1 in /usr/local/lib/python3.10/dist-packages (from qibo) (3.3)\n",
            "Requirement already satisfied: numpy<2.0.0,>=1.26.4 in /usr/local/lib/python3.10/dist-packages (from qibo) (1.26.4)\n",
            "Requirement already satisfied: openqasm3>=0.5.0 in /usr/local/lib/python3.10/dist-packages (from openqasm3[parser]>=0.5.0->qibo) (1.0.0)\n",
            "Requirement already satisfied: scipy<2.0.0,>=1.10.1 in /usr/local/lib/python3.10/dist-packages (from qibo) (1.13.1)\n",
            "Requirement already satisfied: setuptools<70.0.0,>=69.1.1 in /usr/local/lib/python3.10/dist-packages (from qibo) (69.5.1)\n",
            "Requirement already satisfied: sympy<2.0.0,>=1.11.1 in /usr/local/lib/python3.10/dist-packages (from qibo) (1.13.1)\n",
            "Requirement already satisfied: tabulate<0.10.0,>=0.9.0 in /usr/local/lib/python3.10/dist-packages (from qibo) (0.9.0)\n",
            "Requirement already satisfied: six in /usr/local/lib/python3.10/dist-packages (from hyperopt<0.3.0,>=0.2.7->qibo) (1.16.0)\n",
            "Requirement already satisfied: future in /usr/local/lib/python3.10/dist-packages (from hyperopt<0.3.0,>=0.2.7->qibo) (1.0.0)\n",
            "Requirement already satisfied: tqdm in /usr/local/lib/python3.10/dist-packages (from hyperopt<0.3.0,>=0.2.7->qibo) (4.66.4)\n",
            "Requirement already satisfied: cloudpickle in /usr/local/lib/python3.10/dist-packages (from hyperopt<0.3.0,>=0.2.7->qibo) (2.2.1)\n",
            "Requirement already satisfied: py4j in /usr/local/lib/python3.10/dist-packages (from hyperopt<0.3.0,>=0.2.7->qibo) (0.10.9.7)\n",
            "Requirement already satisfied: antlr4-python3-runtime<4.14,>=4.7 in /usr/local/lib/python3.10/dist-packages (from openqasm3[parser]>=0.5.0->qibo) (4.13.1)\n",
            "Requirement already satisfied: mpmath<1.4,>=1.1.0 in /usr/local/lib/python3.10/dist-packages (from sympy<2.0.0,>=1.11.1->qibo) (1.3.0)\n"
          ]
        }
      ],
      "source": [
        "pip install qibo"
      ]
    },
    {
      "cell_type": "code",
      "source": [
        "pip install qibojit"
      ],
      "metadata": {
        "colab": {
          "base_uri": "https://localhost:8080/"
        },
        "id": "XBCC_NYvItkc",
        "outputId": "10eb68cb-6071-4b2c-eea3-de99d66c4b73"
      },
      "execution_count": 2,
      "outputs": [
        {
          "output_type": "stream",
          "name": "stdout",
          "text": [
            "Collecting qibojit\n",
            "  Downloading qibojit-0.1.4-py3-none-any.whl.metadata (2.1 kB)\n",
            "Requirement already satisfied: numba>=0.59.0 in /usr/local/lib/python3.10/dist-packages (from qibojit) (0.60.0)\n",
            "Requirement already satisfied: psutil<6.0.0,>=5.9.5 in /usr/local/lib/python3.10/dist-packages (from qibojit) (5.9.5)\n",
            "Requirement already satisfied: qibo>=0.2.8 in /usr/local/lib/python3.10/dist-packages (from qibojit) (0.2.9)\n",
            "Requirement already satisfied: scipy<2.0.0,>=1.10.1 in /usr/local/lib/python3.10/dist-packages (from qibojit) (1.13.1)\n",
            "Requirement already satisfied: llvmlite<0.44,>=0.43.0dev0 in /usr/local/lib/python3.10/dist-packages (from numba>=0.59.0->qibojit) (0.43.0)\n",
            "Requirement already satisfied: numpy<2.1,>=1.22 in /usr/local/lib/python3.10/dist-packages (from numba>=0.59.0->qibojit) (1.26.4)\n",
            "Requirement already satisfied: cma<4.0.0,>=3.3.0 in /usr/local/lib/python3.10/dist-packages (from qibo>=0.2.8->qibojit) (3.4.0)\n",
            "Requirement already satisfied: hyperopt<0.3.0,>=0.2.7 in /usr/local/lib/python3.10/dist-packages (from qibo>=0.2.8->qibojit) (0.2.7)\n",
            "Requirement already satisfied: joblib<2.0.0,>=1.2.0 in /usr/local/lib/python3.10/dist-packages (from qibo>=0.2.8->qibojit) (1.4.2)\n",
            "Requirement already satisfied: networkx<4.0.0,>=3.2.1 in /usr/local/lib/python3.10/dist-packages (from qibo>=0.2.8->qibojit) (3.3)\n",
            "Requirement already satisfied: openqasm3>=0.5.0 in /usr/local/lib/python3.10/dist-packages (from openqasm3[parser]>=0.5.0->qibo>=0.2.8->qibojit) (1.0.0)\n",
            "Requirement already satisfied: setuptools<70.0.0,>=69.1.1 in /usr/local/lib/python3.10/dist-packages (from qibo>=0.2.8->qibojit) (69.5.1)\n",
            "Requirement already satisfied: sympy<2.0.0,>=1.11.1 in /usr/local/lib/python3.10/dist-packages (from qibo>=0.2.8->qibojit) (1.13.1)\n",
            "Requirement already satisfied: tabulate<0.10.0,>=0.9.0 in /usr/local/lib/python3.10/dist-packages (from qibo>=0.2.8->qibojit) (0.9.0)\n",
            "Requirement already satisfied: six in /usr/local/lib/python3.10/dist-packages (from hyperopt<0.3.0,>=0.2.7->qibo>=0.2.8->qibojit) (1.16.0)\n",
            "Requirement already satisfied: future in /usr/local/lib/python3.10/dist-packages (from hyperopt<0.3.0,>=0.2.7->qibo>=0.2.8->qibojit) (1.0.0)\n",
            "Requirement already satisfied: tqdm in /usr/local/lib/python3.10/dist-packages (from hyperopt<0.3.0,>=0.2.7->qibo>=0.2.8->qibojit) (4.66.4)\n",
            "Requirement already satisfied: cloudpickle in /usr/local/lib/python3.10/dist-packages (from hyperopt<0.3.0,>=0.2.7->qibo>=0.2.8->qibojit) (2.2.1)\n",
            "Requirement already satisfied: py4j in /usr/local/lib/python3.10/dist-packages (from hyperopt<0.3.0,>=0.2.7->qibo>=0.2.8->qibojit) (0.10.9.7)\n",
            "Requirement already satisfied: antlr4-python3-runtime<4.14,>=4.7 in /usr/local/lib/python3.10/dist-packages (from openqasm3[parser]>=0.5.0->qibo>=0.2.8->qibojit) (4.13.1)\n",
            "Requirement already satisfied: mpmath<1.4,>=1.1.0 in /usr/local/lib/python3.10/dist-packages (from sympy<2.0.0,>=1.11.1->qibo>=0.2.8->qibojit) (1.3.0)\n",
            "Downloading qibojit-0.1.4-py3-none-any.whl (35 kB)\n",
            "Installing collected packages: qibojit\n",
            "Successfully installed qibojit-0.1.4\n"
          ]
        }
      ]
    },
    {
      "cell_type": "markdown",
      "source": [
        "In order to run simulation, we set the qibojit backend as it's more suitable to run simulation and many qubits."
      ],
      "metadata": {
        "id": "wEaunXbRJUYv"
      }
    },
    {
      "cell_type": "code",
      "source": [
        "import numpy as np\n",
        "import qibo\n",
        "from qibo import Circuit,gates, hamiltonians\n",
        "#setting the backend:\n",
        "qibo.set_backend('qibojit',platform=\"numba\")"
      ],
      "metadata": {
        "colab": {
          "base_uri": "https://localhost:8080/"
        },
        "id": "MsdSZj9bJC_y",
        "outputId": "ae242239-d0d8-426c-c735-1702c4d87e0d"
      },
      "execution_count": 8,
      "outputs": [
        {
          "output_type": "stream",
          "name": "stderr",
          "text": [
            "[Qibo 0.2.9|INFO|2024-07-30 05:44:15]: Using qibojit (numba) backend on /CPU:0\n",
            "INFO:qibo.config:Using qibojit (numba) backend on /CPU:0\n"
          ]
        }
      ]
    },
    {
      "cell_type": "code",
      "source": [
        "#Building first qibo circuit:\n",
        "n=4\n",
        "c=Circuit(nqubits=n)\n",
        "print(c.draw())"
      ],
      "metadata": {
        "colab": {
          "base_uri": "https://localhost:8080/"
        },
        "id": "_OWMM2vuKNcM",
        "outputId": "59964698-c8e6-4309-d4b6-8933b1e54d5a"
      },
      "execution_count": 12,
      "outputs": [
        {
          "output_type": "stream",
          "name": "stdout",
          "text": [
            "q0: ─\n",
            "q1: ─\n",
            "q2: ─\n",
            "q3: ─\n"
          ]
        }
      ]
    },
    {
      "cell_type": "code",
      "source": [
        "#adding gates to the circuit:\n",
        "\n",
        "c.add(gates.H(q=0))#applying hadamard to frst qubit\n",
        "c.add(gates.H(q=1))#applying hadamard to second qubit\n",
        "c.add(gates.Z(q=3))#applying Pauli's Z gate to 4th qubit\n",
        "c.add(gates.X(q=0))#applying Pauli's X gate to 3rd qubit\n",
        "c.add(gates.CNOT(q0=0,q1=2))\n",
        "c.add(gates.CZ(q0=2,q1=1))\n",
        "c.add(gates.Y(q=1).controlled_by(2,3,0))\n",
        "print(c.draw())\n",
        "print()\n",
        "print(c.summary())\n",
        "\n",
        "\n",
        "\n"
      ],
      "metadata": {
        "colab": {
          "base_uri": "https://localhost:8080/"
        },
        "id": "V0FQR8s_MKao",
        "outputId": "fc0b5071-dd0e-43d7-cd8e-d4b4971d97fc"
      },
      "execution_count": 21,
      "outputs": [
        {
          "output_type": "stream",
          "name": "stdout",
          "text": [
            "q0: ─H─H─H─H─X─o─H─X─o───H─X─o───o─H─X─o───o─H─X─o───o─\n",
            "q1: ─H─H─H─H───|─H───|─Z─H───|─Z─Y─H───|─Z─Y─H───|─Z─Y─\n",
            "q2: ─X─────────X─────X─o─────X─o─o─────X─o─o─────X─o─o─\n",
            "q3: ─Z─Z─────────Z───────Z───────o─Z───────o─Z───────o─\n",
            "\n",
            "Circuit depth = 24\n",
            "Total number of gates = 40\n",
            "Number of qubits = 4\n",
            "Most common gates:\n",
            "h: 16\n",
            "z: 6\n",
            "x: 6\n",
            "cx: 5\n",
            "cz: 4\n",
            "y: 3\n"
          ]
        }
      ]
    },
    {
      "cell_type": "code",
      "source": [
        "#executing the circuit:\n",
        "print(c())\n",
        "print()\n",
        "#printing the final state:\n",
        "print(c().state())"
      ],
      "metadata": {
        "colab": {
          "base_uri": "https://localhost:8080/"
        },
        "id": "pwaV_UHjQzdl",
        "outputId": "d2cc7ff8-8583-4fea-f097-a776c31e2e2a"
      },
      "execution_count": 35,
      "outputs": [
        {
          "output_type": "stream",
          "name": "stdout",
          "text": [
            "(-0.5+0j)|0100> + (-0.5+0j)|0110> + (0.5+0j)|1000> + (-0.5+0j)|1010>\n",
            "\n",
            "[ 0. +0.j -0. +0.j  0. +0.j -0. +0.j -0.5+0.j -0. +0.j -0.5+0.j  0. -0.j\n",
            "  0.5+0.j -0. +0.j -0.5+0.j  0. -0.j  0. +0.j -0. +0.j -0. +0.j -0. +0.j]\n"
          ]
        }
      ]
    },
    {
      "cell_type": "code",
      "source": [
        "#to print the probabilities from the outcome:\n",
        "probs=c().probabilities()\n",
        "print(probs)\n"
      ],
      "metadata": {
        "colab": {
          "base_uri": "https://localhost:8080/"
        },
        "id": "WB467PM5Q8ia",
        "outputId": "3af7a4a1-2025-4e58-8974-3c4bb38169c2"
      },
      "execution_count": 36,
      "outputs": [
        {
          "output_type": "stream",
          "name": "stdout",
          "text": [
            "[0.   0.   0.   0.   0.25 0.   0.25 0.   0.25 0.   0.25 0.   0.   0.\n",
            " 0.   0.  ]\n"
          ]
        }
      ]
    },
    {
      "cell_type": "code",
      "source": [
        "#in order to add measurement gates, we copy the initial steps again:\n",
        "\n",
        "n=4\n",
        "c=Circuit(nqubits=n)\n",
        "c.add(gates.H(q=0))#applying hadamard to frst qubit\n",
        "c.add(gates.H(q=1))#applying hadamard to second qubit\n",
        "c.add(gates.Z(q=3))#applying Pauli's Z gate to 4th qubit\n",
        "c.add(gates.X(q=0))#applying Pauli's X gate to 3rd qubit\n",
        "c.add(gates.CNOT(q0=0,q1=2))\n",
        "c.add(gates.CZ(q0=2,q1=1))\n",
        "c.add(gates.Y(q=1).controlled_by(2,3,0))\n",
        "#adding measurement gates now:\n",
        "\n",
        "c.add(gates.M(*range(n)))\n",
        "print(c.draw())\n",
        "\n",
        "\n"
      ],
      "metadata": {
        "colab": {
          "base_uri": "https://localhost:8080/"
        },
        "id": "-T3VlhSxSRpB",
        "outputId": "7577174a-2c07-4294-9445-33800b40fa15"
      },
      "execution_count": 37,
      "outputs": [
        {
          "output_type": "stream",
          "name": "stdout",
          "text": [
            "q0: ─H─X─o───o─M─\n",
            "q1: ─H───|─Z─Y─M─\n",
            "q2: ─────X─o─o─M─\n",
            "q3: ─Z───────o─M─\n"
          ]
        }
      ]
    },
    {
      "cell_type": "code",
      "source": [
        "#Again we can execute and collect the outcome.\n",
        "#but now we can mention the shots\n",
        "outcome=c(nshots=1000)\n",
        "print(outcome)\n",
        "print()\n",
        "print(outcome.probabilities())"
      ],
      "metadata": {
        "colab": {
          "base_uri": "https://localhost:8080/"
        },
        "id": "fcf3gx-dS34G",
        "outputId": "b9bec292-4852-4f93-d693-5f516b62427f"
      },
      "execution_count": 40,
      "outputs": [
        {
          "output_type": "stream",
          "name": "stdout",
          "text": [
            "(0.5+0j)|0000> + (0.5+0j)|0100> + (0.5+0j)|1010> + (-0.5+0j)|1110>\n",
            "\n",
            "[0.25 0.   0.   0.   0.25 0.   0.   0.   0.   0.   0.25 0.   0.   0.\n",
            " 0.25 0.  ]\n"
          ]
        }
      ]
    },
    {
      "cell_type": "code",
      "source": [
        "#to collect the frequencies(no.of shots)\n",
        "frequencies=outcome.frequencies()\n",
        "print(frequencies)"
      ],
      "metadata": {
        "colab": {
          "base_uri": "https://localhost:8080/"
        },
        "id": "PVo6DS8PTksZ",
        "outputId": "333352ae-abf5-40a6-ccf7-6e02806e3684"
      },
      "execution_count": 41,
      "outputs": [
        {
          "output_type": "stream",
          "name": "stdout",
          "text": [
            "Counter({'0000': 273, '0100': 250, '1110': 241, '1010': 236})\n"
          ]
        }
      ]
    },
    {
      "cell_type": "code",
      "source": [
        "pip install git+https://github.com/qiboteam/qiboedu"
      ],
      "metadata": {
        "colab": {
          "base_uri": "https://localhost:8080/"
        },
        "id": "_HD8YookULlD",
        "outputId": "df098ca4-5a51-4c43-b587-e0f22fb46314"
      },
      "execution_count": 42,
      "outputs": [
        {
          "output_type": "stream",
          "name": "stdout",
          "text": [
            "Collecting git+https://github.com/qiboteam/qiboedu\n",
            "  Cloning https://github.com/qiboteam/qiboedu to /tmp/pip-req-build-828al6d0\n",
            "  Running command git clone --filter=blob:none --quiet https://github.com/qiboteam/qiboedu /tmp/pip-req-build-828al6d0\n",
            "  Resolved https://github.com/qiboteam/qiboedu to commit c05f53215f1e0efff377a0310748b8dc3753dac7\n",
            "  Installing build dependencies ... \u001b[?25l\u001b[?25hdone\n",
            "  Getting requirements to build wheel ... \u001b[?25l\u001b[?25hdone\n",
            "  Preparing metadata (pyproject.toml) ... \u001b[?25l\u001b[?25hdone\n",
            "Collecting matplotlib<4.0.0,>=3.8.0 (from qiboedu==0.1.0)\n",
            "  Downloading matplotlib-3.9.1-cp310-cp310-manylinux_2_17_x86_64.manylinux2014_x86_64.whl.metadata (11 kB)\n",
            "Requirement already satisfied: qibo<0.3.0,>=0.2.4 in /usr/local/lib/python3.10/dist-packages (from qiboedu==0.1.0) (0.2.9)\n",
            "Requirement already satisfied: qibojit<0.2.0,>=0.1.2 in /usr/local/lib/python3.10/dist-packages (from qiboedu==0.1.0) (0.1.4)\n",
            "Requirement already satisfied: contourpy>=1.0.1 in /usr/local/lib/python3.10/dist-packages (from matplotlib<4.0.0,>=3.8.0->qiboedu==0.1.0) (1.2.1)\n",
            "Requirement already satisfied: cycler>=0.10 in /usr/local/lib/python3.10/dist-packages (from matplotlib<4.0.0,>=3.8.0->qiboedu==0.1.0) (0.12.1)\n",
            "Requirement already satisfied: fonttools>=4.22.0 in /usr/local/lib/python3.10/dist-packages (from matplotlib<4.0.0,>=3.8.0->qiboedu==0.1.0) (4.53.1)\n",
            "Requirement already satisfied: kiwisolver>=1.3.1 in /usr/local/lib/python3.10/dist-packages (from matplotlib<4.0.0,>=3.8.0->qiboedu==0.1.0) (1.4.5)\n",
            "Requirement already satisfied: numpy>=1.23 in /usr/local/lib/python3.10/dist-packages (from matplotlib<4.0.0,>=3.8.0->qiboedu==0.1.0) (1.26.4)\n",
            "Requirement already satisfied: packaging>=20.0 in /usr/local/lib/python3.10/dist-packages (from matplotlib<4.0.0,>=3.8.0->qiboedu==0.1.0) (24.1)\n",
            "Requirement already satisfied: pillow>=8 in /usr/local/lib/python3.10/dist-packages (from matplotlib<4.0.0,>=3.8.0->qiboedu==0.1.0) (9.4.0)\n",
            "Requirement already satisfied: pyparsing>=2.3.1 in /usr/local/lib/python3.10/dist-packages (from matplotlib<4.0.0,>=3.8.0->qiboedu==0.1.0) (3.1.2)\n",
            "Requirement already satisfied: python-dateutil>=2.7 in /usr/local/lib/python3.10/dist-packages (from matplotlib<4.0.0,>=3.8.0->qiboedu==0.1.0) (2.8.2)\n",
            "Requirement already satisfied: cma<4.0.0,>=3.3.0 in /usr/local/lib/python3.10/dist-packages (from qibo<0.3.0,>=0.2.4->qiboedu==0.1.0) (3.4.0)\n",
            "Requirement already satisfied: hyperopt<0.3.0,>=0.2.7 in /usr/local/lib/python3.10/dist-packages (from qibo<0.3.0,>=0.2.4->qiboedu==0.1.0) (0.2.7)\n",
            "Requirement already satisfied: joblib<2.0.0,>=1.2.0 in /usr/local/lib/python3.10/dist-packages (from qibo<0.3.0,>=0.2.4->qiboedu==0.1.0) (1.4.2)\n",
            "Requirement already satisfied: networkx<4.0.0,>=3.2.1 in /usr/local/lib/python3.10/dist-packages (from qibo<0.3.0,>=0.2.4->qiboedu==0.1.0) (3.3)\n",
            "Requirement already satisfied: openqasm3>=0.5.0 in /usr/local/lib/python3.10/dist-packages (from openqasm3[parser]>=0.5.0->qibo<0.3.0,>=0.2.4->qiboedu==0.1.0) (1.0.0)\n",
            "Requirement already satisfied: scipy<2.0.0,>=1.10.1 in /usr/local/lib/python3.10/dist-packages (from qibo<0.3.0,>=0.2.4->qiboedu==0.1.0) (1.13.1)\n",
            "Requirement already satisfied: setuptools<70.0.0,>=69.1.1 in /usr/local/lib/python3.10/dist-packages (from qibo<0.3.0,>=0.2.4->qiboedu==0.1.0) (69.5.1)\n",
            "Requirement already satisfied: sympy<2.0.0,>=1.11.1 in /usr/local/lib/python3.10/dist-packages (from qibo<0.3.0,>=0.2.4->qiboedu==0.1.0) (1.13.1)\n",
            "Requirement already satisfied: tabulate<0.10.0,>=0.9.0 in /usr/local/lib/python3.10/dist-packages (from qibo<0.3.0,>=0.2.4->qiboedu==0.1.0) (0.9.0)\n",
            "Requirement already satisfied: numba>=0.59.0 in /usr/local/lib/python3.10/dist-packages (from qibojit<0.2.0,>=0.1.2->qiboedu==0.1.0) (0.60.0)\n",
            "Requirement already satisfied: psutil<6.0.0,>=5.9.5 in /usr/local/lib/python3.10/dist-packages (from qibojit<0.2.0,>=0.1.2->qiboedu==0.1.0) (5.9.5)\n",
            "Requirement already satisfied: six in /usr/local/lib/python3.10/dist-packages (from hyperopt<0.3.0,>=0.2.7->qibo<0.3.0,>=0.2.4->qiboedu==0.1.0) (1.16.0)\n",
            "Requirement already satisfied: future in /usr/local/lib/python3.10/dist-packages (from hyperopt<0.3.0,>=0.2.7->qibo<0.3.0,>=0.2.4->qiboedu==0.1.0) (1.0.0)\n",
            "Requirement already satisfied: tqdm in /usr/local/lib/python3.10/dist-packages (from hyperopt<0.3.0,>=0.2.7->qibo<0.3.0,>=0.2.4->qiboedu==0.1.0) (4.66.4)\n",
            "Requirement already satisfied: cloudpickle in /usr/local/lib/python3.10/dist-packages (from hyperopt<0.3.0,>=0.2.7->qibo<0.3.0,>=0.2.4->qiboedu==0.1.0) (2.2.1)\n",
            "Requirement already satisfied: py4j in /usr/local/lib/python3.10/dist-packages (from hyperopt<0.3.0,>=0.2.7->qibo<0.3.0,>=0.2.4->qiboedu==0.1.0) (0.10.9.7)\n",
            "Requirement already satisfied: llvmlite<0.44,>=0.43.0dev0 in /usr/local/lib/python3.10/dist-packages (from numba>=0.59.0->qibojit<0.2.0,>=0.1.2->qiboedu==0.1.0) (0.43.0)\n",
            "Requirement already satisfied: antlr4-python3-runtime<4.14,>=4.7 in /usr/local/lib/python3.10/dist-packages (from openqasm3[parser]>=0.5.0->qibo<0.3.0,>=0.2.4->qiboedu==0.1.0) (4.13.1)\n",
            "Requirement already satisfied: mpmath<1.4,>=1.1.0 in /usr/local/lib/python3.10/dist-packages (from sympy<2.0.0,>=1.11.1->qibo<0.3.0,>=0.2.4->qiboedu==0.1.0) (1.3.0)\n",
            "Downloading matplotlib-3.9.1-cp310-cp310-manylinux_2_17_x86_64.manylinux2014_x86_64.whl (8.3 MB)\n",
            "\u001b[2K   \u001b[90m━━━━━━━━━━━━━━━━━━━━━━━━━━━━━━━━━━━━━━━━\u001b[0m \u001b[32m8.3/8.3 MB\u001b[0m \u001b[31m66.6 MB/s\u001b[0m eta \u001b[36m0:00:00\u001b[0m\n",
            "\u001b[?25hBuilding wheels for collected packages: qiboedu\n",
            "  Building wheel for qiboedu (pyproject.toml) ... \u001b[?25l\u001b[?25hdone\n",
            "  Created wheel for qiboedu: filename=qiboedu-0.1.0-py3-none-any.whl size=17157 sha256=ee8fcb5e69457b334e4b74db5bfaf94ba2eb8685931b5b26bbac065927387e96\n",
            "  Stored in directory: /tmp/pip-ephem-wheel-cache-004cl8_0/wheels/88/3e/b3/56312e57970f2fabccd0b51c358665866db085f22720ced56a\n",
            "Successfully built qiboedu\n",
            "Installing collected packages: matplotlib, qiboedu\n",
            "  Attempting uninstall: matplotlib\n",
            "    Found existing installation: matplotlib 3.7.1\n",
            "    Uninstalling matplotlib-3.7.1:\n",
            "      Successfully uninstalled matplotlib-3.7.1\n",
            "Successfully installed matplotlib-3.9.1 qiboedu-0.1.0\n"
          ]
        }
      ]
    },
    {
      "cell_type": "markdown",
      "source": [
        "STATE VISUALIZATION:\n",
        "\n",
        "We can use the 'scripts.plotscripts.visualize_state' function, which takes as an argument the counter object you get calling circuit(nshots=nshots).frequencies(binary=True).\n",
        "\n"
      ],
      "metadata": {
        "id": "BlO8pcHUUbox"
      }
    },
    {
      "cell_type": "code",
      "source": [
        "from qiboedu.scripts.plotscripts import visualize_states"
      ],
      "metadata": {
        "id": "52HRuYCTUTNA"
      },
      "execution_count": 45,
      "outputs": []
    },
    {
      "cell_type": "code",
      "source": [
        "visualize_states(frequencies)"
      ],
      "metadata": {
        "colab": {
          "base_uri": "https://localhost:8080/",
          "height": 412
        },
        "id": "58Pd9pXDVYI_",
        "outputId": "73e95203-9336-4600-ce7d-85fa0527a872"
      },
      "execution_count": 46,
      "outputs": [
        {
          "output_type": "display_data",
          "data": {
            "text/plain": [
              "<Figure size 500x375 with 1 Axes>"
            ],
            "image/png": "[encoded data removed]"
          },
          "metadata": {}
        }
      ]
    },
    {
      "cell_type": "markdown",
      "source": [
        "*Combining circuits*: two or more circuits into one!"
      ],
      "metadata": {
        "id": "E5K5A6MhV60l"
      }
    },
    {
      "cell_type": "code",
      "source": [
        "# initialize c1:\n",
        "c1 = Circuit(3)\n",
        "c1.add(gates.H(0))\n",
        "c1.add(gates.CNOT(1,0))\n",
        "c1.add(gates.Z(1))\n",
        "print(c1.draw())\n"
      ],
      "metadata": {
        "colab": {
          "base_uri": "https://localhost:8080/"
        },
        "id": "O5suk6IMVja3",
        "outputId": "748e07be-712c-4400-9c2b-71d8f3c8d3eb"
      },
      "execution_count": 48,
      "outputs": [
        {
          "output_type": "stream",
          "name": "stdout",
          "text": [
            "q0: ─H─X───\n",
            "q1: ───o─Z─\n",
            "q2: ───────\n"
          ]
        }
      ]
    },
    {
      "cell_type": "code",
      "source": [
        "#initialize c2:\n",
        "c2 = Circuit(3)\n",
        "c2.add(gates.H(2))\n",
        "c2.add(gates.Z(1))\n",
        "c2.add(gates.Y(1))\n",
        "c2.add(gates.CZ(2,1))\n",
        "print(c2.draw())\n"
      ],
      "metadata": {
        "colab": {
          "base_uri": "https://localhost:8080/"
        },
        "id": "glivmJeuZTPv",
        "outputId": "f8e1b981-a1ba-473e-ddf6-2ec2ad1e93d4"
      },
      "execution_count": 49,
      "outputs": [
        {
          "output_type": "stream",
          "name": "stdout",
          "text": [
            "q0: ───────\n",
            "q1: ─Z─Y─Z─\n",
            "q2: ─H───o─\n"
          ]
        }
      ]
    },
    {
      "cell_type": "code",
      "source": [
        "#combining these two circuits:\n",
        "c=c2+c1\n",
        "print(c.draw())\n",
        "print()\n",
        "c=c1+c2\n",
        "print(c.draw())"
      ],
      "metadata": {
        "colab": {
          "base_uri": "https://localhost:8080/"
        },
        "id": "ZcKdZYZPZiaC",
        "outputId": "f4a1aedd-2e8d-4195-d3e7-821dd5a446f9"
      },
      "execution_count": 52,
      "outputs": [
        {
          "output_type": "stream",
          "name": "stdout",
          "text": [
            "q0: ───────H─X───\n",
            "q1: ─Z─Y─Z───o─Z─\n",
            "q2: ─H───o───────\n",
            "\n",
            "q0: ─H─X─────────\n",
            "q1: ───o─Z─Z─Y─Z─\n",
            "q2: ─────H─────o─\n"
          ]
        }
      ]
    },
    {
      "cell_type": "markdown",
      "source": [
        "Simulating Bell's state: create a two-qubit circuit, lead one of the two qubits to a superposed state using an Hadamard gate and then apply a controlled-NOT gate to the second qubit using the superposed one as control."
      ],
      "metadata": {
        "id": "zj2PWnD0aY5U"
      }
    },
    {
      "cell_type": "code",
      "source": [
        "c = Circuit(2)\n",
        "c.add(gates.H(0))\n",
        "c.add(gates.CNOT(q0=0, q1=1))\n",
        "print(c.add(gates.M(*range(2)))) #measurement part\n",
        "print()\n",
        "print(c(nshots=2000)) #outcome"
      ],
      "metadata": {
        "colab": {
          "base_uri": "https://localhost:8080/"
        },
        "id": "uMWkm5uEZz48",
        "outputId": "2af575c0-c509-40d9-d5f4-5f0d74de88f1"
      },
      "execution_count": 60,
      "outputs": [
        {
          "output_type": "stream",
          "name": "stdout",
          "text": [
            "MeasurementResult(qubits=(0, 1), nshots=0)\n",
            "\n",
            "(0.70711+0j)|00> + (0.70711+0j)|11>\n"
          ]
        }
      ]
    },
    {
      "cell_type": "code",
      "source": [
        "frequencies=c().frequencies()\n",
        "print(frequencies)\n",
        "visualize_states(frequencies)"
      ],
      "metadata": {
        "colab": {
          "base_uri": "https://localhost:8080/",
          "height": 412
        },
        "id": "xDNbN1t-b4Ac",
        "outputId": "fd4b0ffd-d89a-403a-ff37-667ab2a2ae26"
      },
      "execution_count": 61,
      "outputs": [
        {
          "output_type": "stream",
          "name": "stdout",
          "text": [
            "Counter({'11': 541, '00': 459})\n"
          ]
        },
        {
          "output_type": "display_data",
          "data": {
            "text/plain": [
              "<Figure size 500x375 with 1 Axes>"
            ],
            "image/png": "[encoded data removed]"
          },
          "metadata": {}
        }
      ]
    },
    {
      "cell_type": "markdown",
      "source": [
        "Parameterized gates : are those gates which are used to manipulate the quantum states."
      ],
      "metadata": {
        "id": "WUVnCVdqcsjO"
      }
    },
    {
      "cell_type": "code",
      "source": [
        "nqubits=2\n",
        "nlayers=2 #the loop goes twice\n",
        "c = Circuit(nqubits=nqubits)\n",
        "for l in range(nlayers):\n",
        "  for q in range(nqubits):\n",
        "    c.add(gates.RY(q=q, theta=0))\n",
        "    c.add(gates.RZ(q=q, theta=0))\n",
        "\n",
        "c.add(gates.M(*range(nqubits)))\n",
        "\n",
        "print(c.draw())\n"
      ],
      "metadata": {
        "colab": {
          "base_uri": "https://localhost:8080/"
        },
        "id": "F1IOR7GtcB_l",
        "outputId": "336c0e67-7ad3-4e31-863a-3268494004c0"
      },
      "execution_count": 67,
      "outputs": [
        {
          "output_type": "stream",
          "name": "stdout",
          "text": [
            "q0: ─RY─RZ─RY─RZ─M─\n",
            "q1: ─RY─RZ─RY─RZ─M─\n"
          ]
        }
      ]
    },
    {
      "cell_type": "code",
      "source": [
        "#modified code\n",
        "nqubits=2\n",
        "nlayers=2 #the loop goes twice\n",
        "c = Circuit(nqubits=nqubits)\n",
        "for l in range(nlayers):\n",
        "  for q in range(nqubits):\n",
        "    c.add(gates.RY(q=q, theta=0))\n",
        "    c.add(gates.RZ(q=q, theta=0)) #theeta is set to 0\n",
        "  c.add(gates.CNOT(q0=0,q1=nqubits-1))\n",
        "c.add(gates.M(*range(nqubits)))\n",
        "\n",
        "print(c.draw())\n",
        "#All the rotational angles are now set to zero, and the final state is equal to the initial state\n"
      ],
      "metadata": {
        "colab": {
          "base_uri": "https://localhost:8080/"
        },
        "id": "QeU5OlzXfox6",
        "outputId": "aaccec5e-98c0-47f8-e565-5a3308c8ec40"
      },
      "execution_count": 71,
      "outputs": [
        {
          "output_type": "stream",
          "name": "stdout",
          "text": [
            "q0: ─RY─RZ─o─RY─RZ─o─M─\n",
            "q1: ─RY─RZ─X─RY─RZ─X─M─\n"
          ]
        }
      ]
    },
    {
      "cell_type": "code",
      "source": [
        "# execute the circuit and collect frequencies\n",
        "outcome = c(nshots=1000)\n",
        "freq = outcome.frequencies()\n",
        "\n",
        "print(outcome)\n",
        "\n",
        "visualize_states(freq)"
      ],
      "metadata": {
        "colab": {
          "base_uri": "https://localhost:8080/",
          "height": 411
        },
        "id": "XFVy0U2_f-sG",
        "outputId": "3abf91c3-9688-4550-8db6-7a4b4fa149b2"
      },
      "execution_count": 73,
      "outputs": [
        {
          "output_type": "stream",
          "name": "stdout",
          "text": [
            "(1+0j)|00>\n"
          ]
        },
        {
          "output_type": "display_data",
          "data": {
            "text/plain": [
              "<Figure size 500x375 with 1 Axes>"
            ],
            "image/png": "[encoded data removed]"
          },
          "metadata": {}
        }
      ]
    },
    {
      "cell_type": "code",
      "source": [
        "params=c.get_parameters()\n",
        "c.get_parameters()"
      ],
      "metadata": {
        "colab": {
          "base_uri": "https://localhost:8080/"
        },
        "id": "UKhZIzRMhI1q",
        "outputId": "fb9e187e-a761-4a48-83a3-cd884f4b4a27"
      },
      "execution_count": 78,
      "outputs": [
        {
          "output_type": "execute_result",
          "data": {
            "text/plain": [
              "[(0,), (0,), (0,), (0,), (0,), (0,), (0,), (0,)]"
            ]
          },
          "metadata": {},
          "execution_count": 78
        }
      ]
    },
    {
      "cell_type": "code",
      "source": [
        "#generating a new random list of parameters:\n",
        "np.random.seed(42)\n",
        "angles=np.random.random(len(params))\n",
        "print(angles)\n",
        "\n"
      ],
      "metadata": {
        "colab": {
          "base_uri": "https://localhost:8080/"
        },
        "id": "k1iVAPaLha2y",
        "outputId": "c39f5867-a27f-48a7-f5ec-a33286dd5f0b"
      },
      "execution_count": 81,
      "outputs": [
        {
          "output_type": "stream",
          "name": "stdout",
          "text": [
            "[0.37454012 0.95071431 0.73199394 0.59865848 0.15601864 0.15599452\n",
            " 0.05808361 0.86617615]\n"
          ]
        }
      ]
    },
    {
      "cell_type": "code",
      "source": [
        "#adding these new set of angles as parameters\n",
        "c.set_parameters(angles)\n",
        "print(c.draw())\n",
        "print()\n",
        "c.get_parameters()"
      ],
      "metadata": {
        "colab": {
          "base_uri": "https://localhost:8080/"
        },
        "id": "WBbClh1hiUAi",
        "outputId": "73da31d6-5315-4ac0-b38a-b19bf9a5cd2c"
      },
      "execution_count": 84,
      "outputs": [
        {
          "output_type": "stream",
          "name": "stdout",
          "text": [
            "q0: ─RY─RZ─o─RY─RZ─o─M─\n",
            "q1: ─RY─RZ─X─RY─RZ─X─M─\n",
            "\n"
          ]
        },
        {
          "output_type": "execute_result",
          "data": {
            "text/plain": [
              "[(0.3745401188473625,),\n",
              " (0.9507143064099162,),\n",
              " (0.7319939418114051,),\n",
              " (0.5986584841970366,),\n",
              " (0.15601864044243652,),\n",
              " (0.15599452033620265,),\n",
              " (0.05808361216819946,),\n",
              " (0.8661761457749352,)]"
            ]
          },
          "metadata": {},
          "execution_count": 84
        }
      ]
    },
    {
      "cell_type": "code",
      "source": [
        "outcome = c(nshots=1000)\n",
        "freq = outcome.frequencies()\n",
        "\n",
        "print(outcome)\n",
        "visualize_states(freq)"
      ],
      "metadata": {
        "colab": {
          "base_uri": "https://localhost:8080/",
          "height": 412
        },
        "id": "5CKl5pncilCR",
        "outputId": "bba02dcc-aacc-45f2-83aa-eb2c6a88502f"
      },
      "execution_count": 85,
      "outputs": [
        {
          "output_type": "stream",
          "name": "stdout",
          "text": [
            "(0.24457-0.8724j)|00> + (0.35732+0.04459j)|01> + (0.16235+0.12021j)|10> + (0.08551-0.03628j)|11>\n"
          ]
        },
        {
          "output_type": "display_data",
          "data": {
            "text/plain": [
              "<Figure size 500x375 with 1 Axes>"
            ],
            "image/png": "[encoded data removed]"
          },
          "metadata": {}
        }
      ]
    },
    {
      "cell_type": "markdown",
      "source": [
        "Hamiltonians:\n",
        " Qibo stores a set of precomputed hamiltonians, which can be called and used to compute expectation values on the states we manipulate using circuits. One of it is the TFIM- transverse field ising model."
      ],
      "metadata": {
        "id": "2Y3mMRsfjBN2"
      }
    },
    {
      "cell_type": "code",
      "source": [
        "#defining hamiltonian:\n",
        "h=hamiltonians.TFIM(2)\n",
        "matrix=h.matrix\n",
        "print(matrix)"
      ],
      "metadata": {
        "colab": {
          "base_uri": "https://localhost:8080/"
        },
        "id": "myFei3R7nTEa",
        "outputId": "62c76061-29d7-4090-effe-f85bfd5373dc"
      },
      "execution_count": 87,
      "outputs": [
        {
          "output_type": "stream",
          "name": "stdout",
          "text": [
            "[[-2.-0.j -0.-0.j -0.-0.j -0.-0.j]\n",
            " [-0.-0.j  2.-0.j -0.-0.j -0.-0.j]\n",
            " [-0.-0.j -0.-0.j  2.-0.j -0.-0.j]\n",
            " [-0.-0.j -0.-0.j -0.-0.j -2.-0.j]]\n"
          ]
        }
      ]
    },
    {
      "cell_type": "code",
      "source": [
        "#finding the eigenstates,eigenvalues and ground state\n",
        "print(h.eigenvectors())\n",
        "print()\n",
        "print(h.eigenvalues())\n",
        "print()\n",
        "print(h.ground_state())\n"
      ],
      "metadata": {
        "colab": {
          "base_uri": "https://localhost:8080/"
        },
        "id": "eGv8HA6jnmH4",
        "outputId": "86fb5227-4968-4fdb-baa9-4a87aee7d321"
      },
      "execution_count": 93,
      "outputs": [
        {
          "output_type": "stream",
          "name": "stdout",
          "text": [
            "[[1.+0.j 0.+0.j 0.+0.j 0.+0.j]\n",
            " [0.+0.j 0.+0.j 0.+0.j 1.+0.j]\n",
            " [0.+0.j 0.+0.j 1.+0.j 0.+0.j]\n",
            " [0.+0.j 1.+0.j 0.+0.j 0.+0.j]]\n",
            "\n",
            "[-2. -2.  2.  2.]\n",
            "\n",
            "[1.+0.j 0.+0.j 0.+0.j 0.+0.j]\n"
          ]
        }
      ]
    },
    {
      "cell_type": "code",
      "source": [
        "#the expectation value of an hamiltonian over a target state\n",
        "# compute the expectation < psi | H | psi > : the circuit we obtained above by a series of rotations\n",
        "print(c().state()) #final state\n",
        "h.expectation(c().state())\n",
        "\n"
      ],
      "metadata": {
        "colab": {
          "base_uri": "https://localhost:8080/"
        },
        "id": "z8sFpy-2oFiC",
        "outputId": "ff935a1c-ddd6-44be-b55f-baf00dfb45f6"
      },
      "execution_count": 96,
      "outputs": [
        {
          "output_type": "stream",
          "name": "stdout",
          "text": [
            "[0.24456537-0.8724044j  0.35731797+0.04459447j 0.16234611+0.12020721j\n",
            " 0.08550659-0.03627859j]\n"
          ]
        },
        {
          "output_type": "execute_result",
          "data": {
            "text/plain": [
              "-1.3181166854990443"
            ]
          },
          "metadata": {},
          "execution_count": 96
        }
      ]
    }
  ]
}